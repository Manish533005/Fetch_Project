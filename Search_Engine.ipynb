{
  "nbformat": 4,
  "nbformat_minor": 0,
  "metadata": {
    "colab": {
      "provenance": []
    },
    "kernelspec": {
      "name": "python3",
      "display_name": "Python 3"
    },
    "language_info": {
      "name": "python"
    }
  },
  "cells": [
    {
      "cell_type": "code",
      "execution_count": 13,
      "metadata": {
        "colab": {
          "base_uri": "https://localhost:8080/"
        },
        "id": "yRmVa5QWJkfb",
        "outputId": "9d4f4c9a-9761-455c-d109-7100881b607c"
      },
      "outputs": [
        {
          "output_type": "stream",
          "name": "stdout",
          "text": [
            "Enter your search: Mature\n",
            "                                                 OFFER              RETAILER  \\\n",
            "0       Spend $50 on a Full-Priced new Club Membership             SAMS CLUB   \n",
            "554  Fresh Bakery Products at Casey's, select varie...  CASEYS GENERAL STORE   \n",
            "544                   Brita® Standard OR Elite Filters                   NaN   \n",
            "545                   Brita® Standard OR Elite Filters                   NaN   \n",
            "546                                Spend $300 at Shaws                 SHAWS   \n",
            "\n",
            "                    BRAND             PRODUCT_CATEGORY  similarity_score  \n",
            "0               SAMS CLUB                          NaN               0.0  \n",
            "554  CASEYS GENERAL STORE  Frozen Pizza & Pizza Snacks               0.0  \n",
            "544                 BRITA                        Water               0.0  \n",
            "545                 BRITA           Household Supplies               0.0  \n",
            "546                 SHAWS             Cooking & Baking               0.0  \n"
          ]
        }
      ],
      "source": [
        "import pandas as pd\n",
        "from sklearn.feature_extraction.text import TfidfVectorizer\n",
        "from sklearn.metrics.pairwise import cosine_similarity\n",
        "\n",
        "# Load datasets\n",
        "brand_category_df = pd.read_csv('brand_category.csv')\n",
        "categories_df = pd.read_csv('categories.csv')\n",
        "offer_retailer_df = pd.read_csv('offer_retailer.csv')\n",
        "\n",
        "# Merge datasets\n",
        "merged_df = pd.merge(offer_retailer_df, brand_category_df, on='BRAND', how='left')\n",
        "merged_df = pd.merge(merged_df, categories_df, on='PRODUCT_CATEGORY', how='left')\n",
        "\n",
        "# Text preprocessing and feature extraction\n",
        "tfidf_vectorizer = TfidfVectorizer(stop_words='english')\n",
        "tfidf_matrix = tfidf_vectorizer.fit_transform(merged_df['OFFER'])\n",
        "\n",
        "# Function to get relevant offers based on user input\n",
        "def get_relevant_offers(user_input):\n",
        "    user_tfidf = tfidf_vectorizer.transform([user_input])\n",
        "\n",
        "    # Calculate cosine similarity\n",
        "    similarity_scores = cosine_similarity(user_tfidf, tfidf_matrix).flatten()\n",
        "\n",
        "    # Combine scores with offer details\n",
        "    merged_df['similarity_score'] = similarity_scores\n",
        "\n",
        "    # Sort by similarity score\n",
        "    sorted_offers = merged_df.sort_values(by='similarity_score', ascending=False)\n",
        "\n",
        "    return sorted_offers[['OFFER', 'RETAILER', 'BRAND', 'PRODUCT_CATEGORY', 'similarity_score']]\n",
        "\n",
        "# Example usage\n",
        "user_query = input(\"Enter your search: \")\n",
        "relevant_offers = get_relevant_offers(user_query)\n",
        "\n",
        "# Display the top relevant offers\n",
        "print(relevant_offers.head())\n"
      ]
    }
  ]
}